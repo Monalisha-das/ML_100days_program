{
 "cells": [
  {
   "cell_type": "markdown",
   "id": "b773fd30",
   "metadata": {},
   "source": [
    "### How to creat on empty and a full numpy array"
   ]
  },
  {
   "cell_type": "code",
   "execution_count": 6,
   "id": "6d7f585f",
   "metadata": {},
   "outputs": [
    {
     "data": {
      "text/plain": [
       "array([[0., 0., 0.],\n",
       "       [0., 0., 0.],\n",
       "       [0., 0., 0.]])"
      ]
     },
     "execution_count": 6,
     "metadata": {},
     "output_type": "execute_result"
    }
   ],
   "source": [
    "import numpy as np \n",
    "arr=np.zeros((3,3))\n",
    "arr"
   ]
  },
  {
   "cell_type": "code",
   "execution_count": 10,
   "id": "89f4701c",
   "metadata": {},
   "outputs": [
    {
     "data": {
      "text/plain": [
       "array([[55, 55, 55],\n",
       "       [55, 55, 55],\n",
       "       [55, 55, 55]])"
      ]
     },
     "execution_count": 10,
     "metadata": {},
     "output_type": "execute_result"
    }
   ],
   "source": [
    "import numpy as np\n",
    "arr= np.full([3, 3], 55, dtype=int)\n",
    "arr"
   ]
  },
  {
   "cell_type": "markdown",
   "id": "540b8b80",
   "metadata": {},
   "source": [
    "### Print full numpy array without truncation"
   ]
  },
  {
   "cell_type": "code",
   "execution_count": 11,
   "id": "075d2de9",
   "metadata": {},
   "outputs": [
    {
     "data": {
      "text/plain": [
       "array([ 1,  2,  3, 45,  6,  3])"
      ]
     },
     "execution_count": 11,
     "metadata": {},
     "output_type": "execute_result"
    }
   ],
   "source": [
    "import numpy as np\n",
    "arr=np.array([1,2,3,45,6,3,])\n",
    "arr"
   ]
  },
  {
   "cell_type": "code",
   "execution_count": 12,
   "id": "8d59a601",
   "metadata": {},
   "outputs": [
    {
     "data": {
      "text/plain": [
       "array([ 0,  1,  2,  3,  4,  5,  6,  7,  8,  9, 10, 11, 12, 13, 14, 15, 16,\n",
       "       17, 18, 19, 20, 21, 22, 23, 24, 25, 26, 27, 28, 29, 30, 31, 32, 33,\n",
       "       34, 35, 36, 37, 38, 39, 40, 41, 42, 43, 44, 45, 46, 47, 48, 49, 50,\n",
       "       51, 52, 53, 54, 55, 56, 57, 58, 59, 60, 61, 62, 63, 64, 65, 66, 67,\n",
       "       68, 69, 70, 71, 72, 73, 74, 75, 76, 77, 78, 79, 80, 81, 82, 83, 84,\n",
       "       85, 86, 87, 88, 89, 90, 91, 92, 93, 94, 95, 96, 97, 98, 99])"
      ]
     },
     "execution_count": 12,
     "metadata": {},
     "output_type": "execute_result"
    }
   ],
   "source": [
    "import numpy as np\n",
    "arr=np.arange(100)\n",
    "arr"
   ]
  },
  {
   "cell_type": "markdown",
   "id": "8164dc25",
   "metadata": {},
   "source": [
    "### Numpy.full()in python"
   ]
  },
  {
   "cell_type": "code",
   "execution_count": 16,
   "id": "ff80a3e0",
   "metadata": {},
   "outputs": [
    {
     "data": {
      "text/plain": [
       "array([[101, 101, 101],\n",
       "       [101, 101, 101],\n",
       "       [101, 101, 101]])"
      ]
     },
     "execution_count": 16,
     "metadata": {},
     "output_type": "execute_result"
    }
   ],
   "source": [
    "import numpy as np\n",
    "arr= np.full([3, 3], 101.1, dtype=int)\n",
    "arr\n"
   ]
  },
  {
   "cell_type": "code",
   "execution_count": 1,
   "id": "d9da2626",
   "metadata": {},
   "outputs": [
    {
     "data": {
      "text/plain": [
       "array([[0., 0., 0.],\n",
       "       [0., 0., 0.],\n",
       "       [0., 0., 0.],\n",
       "       [0., 0., 0.],\n",
       "       [0., 0., 0.]])"
      ]
     },
     "execution_count": 1,
     "metadata": {},
     "output_type": "execute_result"
    }
   ],
   "source": [
    "\n",
    "import numpy as np \n",
    "arr=np.zeros((5,3))\n",
    "arr"
   ]
  },
  {
   "cell_type": "code",
   "execution_count": 4,
   "id": "8ef306fd",
   "metadata": {},
   "outputs": [
    {
     "data": {
      "text/plain": [
       "array([[1., 1., 1.],\n",
       "       [1., 1., 1.],\n",
       "       [1., 1., 1.],\n",
       "       [1., 1., 1.],\n",
       "       [1., 1., 1.]])"
      ]
     },
     "execution_count": 4,
     "metadata": {},
     "output_type": "execute_result"
    }
   ],
   "source": [
    "import numpy as np \n",
    "arr=np.ones((5,3))\n",
    "arr"
   ]
  },
  {
   "cell_type": "code",
   "execution_count": 7,
   "id": "e3097c1d",
   "metadata": {},
   "outputs": [
    {
     "data": {
      "text/plain": [
       "array([[1., 1.],\n",
       "       [1., 1.],\n",
       "       [1., 1.],\n",
       "       [1., 1.],\n",
       "       [1., 1.]])"
      ]
     },
     "execution_count": 7,
     "metadata": {},
     "output_type": "execute_result"
    }
   ],
   "source": [
    "import numpy as np \n",
    "arr=np.ones((5,2))\n",
    "arr\n"
   ]
  },
  {
   "cell_type": "markdown",
   "id": "2e4646c4",
   "metadata": {},
   "source": [
    "### How to remove rows in numpy array that contains non-numeric values"
   ]
  },
  {
   "cell_type": "code",
   "execution_count": 18,
   "id": "910e8ad3",
   "metadata": {},
   "outputs": [
    {
     "name": "stdout",
     "output_type": "stream",
     "text": [
      "[[10.5 22.5  3.8]\n",
      " [41.   nan  nan]]\n",
      "\n",
      " Remove all rows containing non-numeric elements\n",
      "[[10.5 22.5  3.8]]\n"
     ]
    }
   ],
   "source": [
    "\n",
    "import numpy as np\n",
    "\n",
    "n_arr = np.array([[10.5, 22.5, 3.8],\n",
    "[41, np.nan, np.nan]])\n",
    "\n",
    "\n",
    "print(n_arr)\n",
    "\n",
    "print(\"\\n Remove all rows containing non-numeric elements\")\n",
    "print(n_arr[~np.isnan(n_arr).any(axis=1)])\n"
   ]
  },
  {
   "cell_type": "markdown",
   "id": "394ae5be",
   "metadata": {},
   "source": [
    "### check whether a numpy array contains a specified row "
   ]
  },
  {
   "cell_type": "code",
   "execution_count": 20,
   "id": "5deedfda",
   "metadata": {},
   "outputs": [
    {
     "name": "stdout",
     "output_type": "stream",
     "text": [
      "[[ 1  2  3  4  5]\n",
      " [ 6  7  8  9 10]\n",
      " [11 12 13 14 15]\n",
      " [16 17 18 19 20]]\n",
      "True\n",
      "False\n",
      "False\n",
      "True\n"
     ]
    }
   ],
   "source": [
    "\n",
    "import numpy as np\n",
    "arr = numpy.array([[1, 2, 3, 4, 5],[6, 7, 8, 9, 10],[11, 12, 13, 14, 15],\n",
    "                   [16, 17, 18, 19, 20]])\n",
    "print(arr)\n",
    "print([1, 2, 3, 4, 5] in arr.tolist())\n",
    "print([16, 17, 20, 19, 18] in arr.tolist())\n",
    "print([3, 2, 5, -4, 5] in arr.tolist())\n",
    "print([11, 12, 13, 14, 15] in arr.tolist())\n"
   ]
  },
  {
   "cell_type": "markdown",
   "id": "5130ccc7",
   "metadata": {},
   "source": [
    "### remove single-dimensional entries fron the shape of an array."
   ]
  },
  {
   "cell_type": "code",
   "execution_count": 23,
   "id": "aacb8f4c",
   "metadata": {},
   "outputs": [
    {
     "name": "stdout",
     "output_type": "stream",
     "text": [
      "Input array :  [[[2 2 2]\n",
      "  [2 2 2]]]\n",
      "Shape of input array :  (1, 2, 3)\n",
      "output squeezed array :  [[2 2 2]\n",
      " [2 2 2]]\n",
      "Shape of output array :  (2, 3)\n"
     ]
    }
   ],
   "source": [
    "\n",
    "\n",
    "import numpy as np\n",
    "\n",
    "in_arr = np.array([[[2, 2, 2], [2, 2, 2]]])\n",
    "\n",
    "print (\"Input array : \", in_arr)\n",
    "print(\"Shape of input array : \", in_arr.shape)\n",
    "\n",
    "out_arr = np.squeeze(in_arr)\n",
    "\n",
    "print (\"output squeezed array : \", out_arr)\n",
    "print(\"Shape of output array : \", out_arr.shape)\n"
   ]
  },
  {
   "cell_type": "markdown",
   "id": "347baad8",
   "metadata": {},
   "source": [
    "### Find the number of occurrences of a sequence in a NumPy array"
   ]
  },
  {
   "cell_type": "code",
   "execution_count": 28,
   "id": "22b77c70",
   "metadata": {},
   "outputs": [
    {
     "data": {
      "text/plain": [
       "3"
      ]
     },
     "execution_count": 28,
     "metadata": {},
     "output_type": "execute_result"
    }
   ],
   "source": [
    "import numpy\n",
    "arr=numpy.array([[2,3,8,5],[8,4,7,5],[4,3,5,8]])\n",
    "num=repr(arr).count(\"8\")\n",
    "num"
   ]
  },
  {
   "cell_type": "markdown",
   "id": "3102c4ee",
   "metadata": {},
   "source": [
    "### Find the most frequent value in a NumPy array"
   ]
  },
  {
   "cell_type": "code",
   "execution_count": 35,
   "id": "d7c5f1bb",
   "metadata": {},
   "outputs": [
    {
     "name": "stdout",
     "output_type": "stream",
     "text": [
      "Original array:\n",
      "[23 54 23 67 98 34 23]\n",
      "Most frequent value in the above array:\n",
      "23\n"
     ]
    }
   ],
   "source": [
    "import numpy as np\n",
    "x = np.array([23,54,23,67,98,34,23])\n",
    "print(\"Original array:\")\n",
    "print(x)\n",
    "\n",
    "print(\"Most frequent value in the above array:\")\n",
    "print(np.bincount(x).argmax())\n"
   ]
  },
  {
   "cell_type": "code",
   "execution_count": null,
   "id": "1fd9adff",
   "metadata": {},
   "outputs": [],
   "source": []
  }
 ],
 "metadata": {
  "kernelspec": {
   "display_name": "Python 3",
   "language": "python",
   "name": "python3"
  },
  "language_info": {
   "codemirror_mode": {
    "name": "ipython",
    "version": 3
   },
   "file_extension": ".py",
   "mimetype": "text/x-python",
   "name": "python",
   "nbconvert_exporter": "python",
   "pygments_lexer": "ipython3",
   "version": "3.8.8"
  }
 },
 "nbformat": 4,
 "nbformat_minor": 5
}
